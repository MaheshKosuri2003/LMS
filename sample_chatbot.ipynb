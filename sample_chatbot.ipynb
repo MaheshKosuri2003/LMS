{
 "cells": [
  {
   "cell_type": "code",
   "execution_count": 1,
   "id": "7dd1ee59",
   "metadata": {},
   "outputs": [
    {
     "name": "stdout",
     "output_type": "stream",
     "text": [
      "AnB=  {1, 2}\n",
      "AUB =  {1, 2, 3, 4, 5, 6, 8, 9}\n",
      "J(A,B) =  0.25\n"
     ]
    }
   ],
   "source": [
    "A = {1,2,3,4,6}\n",
    "B = {1,2,5,8,9}\n",
    "C = A.intersection(B)\n",
    "D = A.union(B)\n",
    "print('AnB= ',C)\n",
    "print('AUB = ',D)\n",
    "print('J(A,B) = ',float(len(C))/float(len(D)))"
   ]
  },
  {
   "cell_type": "code",
   "execution_count": 2,
   "id": "e0d07ab9",
   "metadata": {},
   "outputs": [
    {
     "name": "stdout",
     "output_type": "stream",
     "text": [
      "Jaccard Similarity: 0.375\n"
     ]
    }
   ],
   "source": [
    "def jaccard_similarity(set1,set2):\n",
    "    intersection = len(set1.intersection(set2))\n",
    "    union = len(set1.union(set2))\n",
    "    return intersection / union\n",
    "\n",
    "set_a = {\"Language\", \"for\", \"computer\", \"NLP\", \"science\"}\n",
    "set_b = {\"NLP\", \"for\", \"Language\", \"Data\", \"ML\", \"AI\"}\n",
    "similarity = jaccard_similarity(set_a,set_b)\n",
    "print(\"Jaccard Similarity:\",similarity)"
   ]
  },
  {
   "cell_type": "code",
   "execution_count": 3,
   "id": "5452bef5",
   "metadata": {},
   "outputs": [],
   "source": [
    "import numpy as np\n",
    "from sklearn.feature_extraction.text import TfidfVectorizer\n",
    "from sklearn.metrics.pairwise import cosine_similarity"
   ]
  },
  {
   "cell_type": "code",
   "execution_count": 4,
   "id": "4240b426",
   "metadata": {},
   "outputs": [],
   "source": [
    "# Step 1: Define predefined chatbot responses\n",
    "responses = [\n",
    "    \"You can return an item within 7 days of purchase.\",\n",
    "    \"Our return policy allows you to return items that are unopened and in their original condition.\",\n",
    "    \"We offer free shipping on orders over $50.\",\n",
    "    \"To track your order, you can visit the 'Order Tracking' page and enter your order number.\",\n",
    "    \"Our customer support team is available from 9 AM to 6 PM, Monday through Friday.\"\n",
    "]"
   ]
  },
  {
   "cell_type": "code",
   "execution_count": 5,
   "id": "255f007d",
   "metadata": {},
   "outputs": [],
   "source": [
    "# step 2: \n",
    "user_input = \"Hoe can i track my oder?\""
   ]
  },
  {
   "cell_type": "code",
   "execution_count": 6,
   "id": "4ba55ba4",
   "metadata": {},
   "outputs": [],
   "source": [
    "#step 3:\n",
    "vectorizer = TfidfVectorizer(stop_words='english')\n",
    "all_texts = responses + [user_input]"
   ]
  },
  {
   "cell_type": "code",
   "execution_count": 7,
   "id": "b88f3c0d",
   "metadata": {},
   "outputs": [],
   "source": [
    "#step 4:\n",
    "tfidf_matrix = vectorizer.fit_transform(all_texts)"
   ]
  },
  {
   "cell_type": "code",
   "execution_count": 8,
   "id": "bc8ffd7f",
   "metadata": {},
   "outputs": [],
   "source": [
    "#step5:\n",
    "user_vector = tfidf_matrix[-1]\n",
    "response_vectors = tfidf_matrix[:-1]\n",
    "\n",
    "cosine_similarities = cosine_similarity(user_vector, response_vectors)"
   ]
  },
  {
   "cell_type": "code",
   "execution_count": 9,
   "id": "6b9d3793",
   "metadata": {},
   "outputs": [],
   "source": [
    "#step 6:\n",
    "most_similar_idx = np.argmax(cosine_similarities)"
   ]
  },
  {
   "cell_type": "code",
   "execution_count": 10,
   "id": "c596b1a8",
   "metadata": {},
   "outputs": [
    {
     "name": "stdout",
     "output_type": "stream",
     "text": [
      "User Query: Hoe can i track my oder?\n",
      "Most relevant respone:To track your order, you can visit the 'Order Tracking' page and enter your order number.\n"
     ]
    }
   ],
   "source": [
    "#step 7:\n",
    "print(f\"User Query: {user_input}\")\n",
    "print(f\"Most relevant respone:{responses[most_similar_idx]}\")\n"
   ]
  },
  {
   "cell_type": "code",
   "execution_count": 11,
   "id": "4c96c59e",
   "metadata": {},
   "outputs": [],
   "source": [
    "import io\n",
    "import random\n",
    "import string\n",
    "import warnings\n",
    "warnings.filterwarnings('ignore')\n",
    "import numpy as np\n",
    "from sklearn.feature_extraction.text import TfidfVectorizer  # Fixed typo here\n",
    "from sklearn.metrics.pairwise import cosine_similarity  # Fixed import and corrected module name\n",
    "from nltk.stem import WordNetLemmatizer\n"
   ]
  },
  {
   "cell_type": "code",
   "execution_count": 12,
   "id": "2e5e716f",
   "metadata": {},
   "outputs": [],
   "source": [
    "#!pip install nltk\n",
    "import nltk"
   ]
  },
  {
   "cell_type": "code",
   "execution_count": 13,
   "id": "f77dd936",
   "metadata": {},
   "outputs": [
    {
     "name": "stderr",
     "output_type": "stream",
     "text": [
      "[nltk_data] Error with downloaded zip file\n",
      "[nltk_data] Downloading package punkt to\n",
      "[nltk_data]     C:\\Users\\kosur\\AppData\\Roaming\\nltk_data...\n",
      "[nltk_data]   Package punkt is already up-to-date!\n",
      "[nltk_data] Downloading package wordnet to\n",
      "[nltk_data]     C:\\Users\\kosur\\AppData\\Roaming\\nltk_data...\n",
      "[nltk_data]   Package wordnet is already up-to-date!\n"
     ]
    },
    {
     "data": {
      "text/plain": [
       "True"
      ]
     },
     "execution_count": 13,
     "metadata": {},
     "output_type": "execute_result"
    }
   ],
   "source": [
    "nltk.download('popular',quiet=True)\n",
    "nltk.download('punkt')\n",
    "nltk.download('wordnet')"
   ]
  },
  {
   "cell_type": "code",
   "execution_count": 15,
   "id": "837280c1",
   "metadata": {},
   "outputs": [],
   "source": [
    "f=open('input.txt','r',errors = 'ignore')\n",
    "raw =f.read()\n",
    "raw = raw.lower()\n"
   ]
  },
  {
   "cell_type": "code",
   "execution_count": 17,
   "id": "e964558a",
   "metadata": {},
   "outputs": [],
   "source": [
    "import nltk \n",
    "sent_tokens = nltk.sent_tokenize\n",
    "word_tokens = nltk.word_tokenize"
   ]
  },
  {
   "cell_type": "code",
   "execution_count": 19,
   "id": "0eda6faa",
   "metadata": {},
   "outputs": [],
   "source": [
    "import nltk\n",
    "import string\n",
    "\n",
    "lemmer = nltk.stem.WordNetLemmatizer()\n",
    "\n",
    "# Lemmatize each token\n",
    "def LemTokens(tokens):\n",
    "    return [lemmer.lemmatize(token) for token in tokens]  # Corrected return statement\n",
    "\n",
    "# Dictionary to remove punctuation\n",
    "remove_punt_dict = dict((ord(punt), None) for punt in string.punctuation)\n",
    "\n",
    "# Normalize the text by tokenizing, lowering, removing punctuation, and lemmatizing\n",
    "def LemNormalize(text):\n",
    "    return LemTokens(nltk.word_tokenize(text.lower().translate(remove_punt_dict)))  # Corrected return statement\n"
   ]
  },
  {
   "cell_type": "code",
   "execution_count": 20,
   "id": "712fc08e",
   "metadata": {},
   "outputs": [],
   "source": [
    "GREETINGS_INPUTS =(\"hello\",\"hi\",\"greetings\",\"sup\",\"what's up\",\"hey\")\n",
    "GREETINGS_RESPONSES = [\"hi\",\"hey\",\"nods\",\"hi there\",\"hello\",\"I am glad! You are talking to me\"]\n",
    "def greetings(sentence):\n",
    "    for word in sentence.split():\n",
    "        if word.lower() in GREETINGS_INPUTS:\n",
    "            return random.choice(GREETINGS_RESPONSES)"
   ]
  },
  {
   "cell_type": "code",
   "execution_count": 21,
   "id": "280fcb14",
   "metadata": {},
   "outputs": [],
   "source": [
    "from sklearn.feature_extraction.text import TfidfVectorizer\n",
    "from sklearn.metrics.pairwise import cosine_similarity\n",
    "import nltk\n",
    "import string\n",
    "\n",
    "# Assuming these are predefined:\n",
    "sent_tokens = [\"Hello!\", \"How can I help you?\", \"Goodbye!\"]  # Sample predefined tokens\n",
    "lemmer = nltk.stem.WordNetLemmatizer()\n",
    "\n",
    "# Lemmatization function\n",
    "def LemTokens(tokens):\n",
    "    return [lemmer.lemmatize(token) for token in tokens]\n",
    "\n",
    "# Remove punctuation\n",
    "remove_punt_dict = dict((ord(punt), None) for punt in string.punctuation)\n",
    "\n",
    "# Normalize the text\n",
    "def LemNormalize(text):\n",
    "    return LemTokens(nltk.word_tokenize(text.lower().translate(remove_punt_dict)))\n",
    "\n",
    "# Define the response function\n",
    "def response(user_response):\n",
    "    robo_response = ''\n",
    "    sent_tokens.append(user_response)  # Add the user's response to the sentence tokens\n",
    "    TfidfVec = TfidfVectorizer(tokenizer=LemNormalize, stop_words='english')  # Initialize TF-IDF vectorizer\n",
    "    tfidf = TfidfVec.fit_transform(sent_tokens)  # Fit and transform the tokens\n",
    "    vals = cosine_similarity(tfidf[-1], tfidf)  # Compare the user's response to all others\n",
    "    idx = vals.argsort()[0][-2]  # Get the index of the most similar response\n",
    "    flat = vals.flatten()  # Flatten the similarity matrix\n",
    "    flat.sort()  # Sort the similarities\n",
    "    req_tfidf = flat[-2]  # Get the second most similar value (ignore self-similarity)\n",
    "\n",
    "    if req_tfidf == 0:\n",
    "        robo_response = \"I am sorry! I don't understand you.\"  # Default response\n",
    "    else:\n",
    "        robo_response = sent_tokens[idx]  # Get the most similar response\n",
    "\n",
    "    sent_tokens.remove(user_response)  # Remove the user's response from the list after processing\n",
    "    return robo_response\n"
   ]
  },
  {
   "cell_type": "code",
   "execution_count": 1,
   "id": "1006d37f",
   "metadata": {},
   "outputs": [
    {
     "name": "stdout",
     "output_type": "stream",
     "text": [
      "SABOT: My name is BOT. How can I assist you? If you want to exit, type 'Bye!'\n",
      "Bye\n",
      "SABOT: Bye! Take care..\n"
     ]
    }
   ],
   "source": [
    "# Flag to keep the conversation going\n",
    "flag = True\n",
    "\n",
    "# Initial greeting message\n",
    "print(\"SABOT: My name is BOT. How can I assist you? If you want to exit, type 'Bye!'\")\n",
    "\n",
    "# Assuming you have a greetings function defined elsewhere\n",
    "def greetings(user_input):\n",
    "    greeting_keywords = ['hi', 'hello', 'hey', 'greetings']\n",
    "    for word in greeting_keywords:\n",
    "        if word in user_input:\n",
    "            return f\"Hello! How can I help you today?\"\n",
    "    return None\n",
    "\n",
    "while flag:\n",
    "    user_response = input()  # Get input from the user\n",
    "    user_response = user_response.lower()  # Convert input to lowercase\n",
    "\n",
    "    if user_response != 'bye':  # If the user doesn't say 'bye'\n",
    "        if user_response == 'thanks' or user_response == 'thank you':\n",
    "            flag = False  # Exit the loop if the user says 'thanks'\n",
    "            print(\"SABOT: You are welcome..\")\n",
    "        else:\n",
    "            # Check for greetings and respond accordingly\n",
    "            greeting_response = greetings(user_response)\n",
    "            if greeting_response:\n",
    "                print(\"SABOT: \" + greeting_response)  # Respond if a greeting is detected\n",
    "            else:\n",
    "                print(\"SABOT: I'm sorry, I didn't understand that.\")  # Default response for unrecognized input\n",
    "    else:\n",
    "        flag = False  # Exit the loop if the user says 'bye'\n",
    "        print(\"SABOT: Bye! Take care..\")\n"
   ]
  },
  {
   "cell_type": "code",
   "execution_count": null,
   "id": "526a6bf9",
   "metadata": {},
   "outputs": [],
   "source": []
  }
 ],
 "metadata": {
  "kernelspec": {
   "display_name": "Python 3 (ipykernel)",
   "language": "python",
   "name": "python3"
  },
  "language_info": {
   "codemirror_mode": {
    "name": "ipython",
    "version": 3
   },
   "file_extension": ".py",
   "mimetype": "text/x-python",
   "name": "python",
   "nbconvert_exporter": "python",
   "pygments_lexer": "ipython3",
   "version": "3.11.4"
  }
 },
 "nbformat": 4,
 "nbformat_minor": 5
}
